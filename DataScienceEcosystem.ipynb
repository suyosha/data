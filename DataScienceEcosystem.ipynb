{
 "cells": [
  {
   "cell_type": "markdown",
   "id": "16b59bf4-7ca8-43a8-84e7-5924b08b351b",
   "metadata": {},
   "source": [
    "# Data Science Tools and Ecosystem\n",
    "\n"
   ]
  },
  {
   "cell_type": "markdown",
   "id": "af45f913-d988-4539-831a-36b3fa114c20",
   "metadata": {},
   "source": [
    "In this notebook, Data Science Tools and Ecosystem are summarized."
   ]
  },
  {
   "cell_type": "markdown",
   "id": "ad4dfde1-1de9-4371-aa38-370658bf459f",
   "metadata": {
    "tags": []
   },
   "source": [
    "Objective:<br>\n",
    "<ul >\n",
    "    <li>list popular languages for data science.</li>\n",
    "    <li>explore common libraries in data science.</li>\n",
    "    <li>understand basic of data visulaization.</li>\n",
    "</ul>"
   ]
  },
  {
   "cell_type": "markdown",
   "id": "1028d0ed-30d8-4e3a-b40e-e56b05a61dde",
   "metadata": {},
   "source": [
    "Some of the popular languages that Data Scientists use are:<br>\n",
    "1.python <br>\n",
    "2.R<br>\n",
    "3.Julia"
   ]
  },
  {
   "cell_type": "markdown",
   "id": "b43a7675-204a-4f3b-8da7-6d7a0bbe3518",
   "metadata": {},
   "source": [
    "Some of the commonly used libraries used by Data Scientists include:<br>\n",
    "1.Numpy <br>\n",
    "2.Pandas <br>\n",
    "3.Tensorflow"
   ]
  },
  {
   "cell_type": "markdown",
   "id": "d6076d4d-7c79-4f89-8101-00c6ba4108f1",
   "metadata": {},
   "source": [
    "<table border=\"2\" align=\"left\">\n",
    "    <th>Data Science Tools</th>\n",
    "    <tr><td>Jupyter Notebook</td></tr>\n",
    "    <tr><td>VS code</td></tr>\n",
    "    <tr><td>Rstudio</td></tr>"
   ]
  },
  {
   "cell_type": "markdown",
   "id": "59937bb3-1701-4fe1-bd74-d98ca751bbe2",
   "metadata": {},
   "source": [
    "### Below are a few examples of evaluating arithmetic expressions in Python."
   ]
  },
  {
   "cell_type": "code",
   "execution_count": 3,
   "id": "dc2fc0a2-90fb-4c58-862b-e67558c877f3",
   "metadata": {
    "tags": []
   },
   "outputs": [
    {
     "data": {
      "text/plain": [
       "17"
      ]
     },
     "execution_count": 3,
     "metadata": {},
     "output_type": "execute_result"
    }
   ],
   "source": [
    "# This is a simple arithmetic expression to multipy then add integers.\n",
    "(3*4)+5"
   ]
  },
  {
   "cell_type": "code",
   "execution_count": 4,
   "id": "98ae02d7-bb20-467d-8ea6-48e37ccf0d30",
   "metadata": {
    "tags": []
   },
   "outputs": [
    {
     "data": {
      "text/plain": [
       "3.3333333333333335"
      ]
     },
     "execution_count": 4,
     "metadata": {},
     "output_type": "execute_result"
    }
   ],
   "source": [
    "# This will convert 200 minutes to hours by diving by 60\n",
    "200/60"
   ]
  },
  {
   "cell_type": "markdown",
   "id": "6e155c3f-a1d3-4a24-97fa-25df6649226e",
   "metadata": {},
   "source": [
    "## Author<br>\n",
    "Name=suyog\n"
   ]
  },
  {
   "cell_type": "code",
   "execution_count": null,
   "id": "f873af25-21a0-43c1-bbc8-22aa1a521329",
   "metadata": {},
   "outputs": [],
   "source": []
  }
 ],
 "metadata": {
  "kernelspec": {
   "display_name": "Python",
   "language": "python",
   "name": "conda-env-python-py"
  },
  "language_info": {
   "codemirror_mode": {
    "name": "ipython",
    "version": 3
   },
   "file_extension": ".py",
   "mimetype": "text/x-python",
   "name": "python",
   "nbconvert_exporter": "python",
   "pygments_lexer": "ipython3",
   "version": "3.7.12"
  }
 },
 "nbformat": 4,
 "nbformat_minor": 5
}
